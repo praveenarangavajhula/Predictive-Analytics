{
 "cells": [
  {
   "cell_type": "code",
   "execution_count": 1,
   "metadata": {
    "collapsed": true
   },
   "outputs": [],
   "source": [
    "import pandas as pd\n",
    "import numpy as np\n",
    "import matplotlib.pyplot as plt\n",
    "from sklearn import svm, datasets\n",
    "from sklearn.model_selection import train_test_split\n",
    "from sklearn import neighbors\n",
    "from sklearn import datasets, linear_model\n",
    "from sklearn.metrics import mean_squared_error, r2_score\n",
    "import matplotlib.pyplot as plt\n",
    "import seaborn as sns; sns.set()  # for plot styling\n",
    "import numpy as np"
   ]
  },
  {
   "cell_type": "code",
   "execution_count": 2,
   "metadata": {
    "collapsed": true
   },
   "outputs": [],
   "source": [
    "can = pd.read_csv('/Users/praveena/Desktop/can.csv')\n",
    "cmp = pd.read_csv('/Users/praveena/Desktop/cmp.csv')\n",
    "can_dummies=pd.get_dummies(can)\n",
    "cmp_dummies=pd.get_dummies(cmp)"
   ]
  },
  {
   "cell_type": "code",
   "execution_count": 3,
   "metadata": {},
   "outputs": [
    {
     "name": "stdout",
     "output_type": "stream",
     "text": [
      "9\n"
     ]
    }
   ],
   "source": [
    "row_count = sum(1 for row in can['cid'])\n",
    "print(row_count)"
   ]
  },
  {
   "cell_type": "code",
   "execution_count": 4,
   "metadata": {},
   "outputs": [
    {
     "name": "stdout",
     "output_type": "stream",
     "text": [
      "5\n"
     ]
    }
   ],
   "source": [
    "row_count = sum(1 for row in cmp['jid'])\n",
    "print(row_count)"
   ]
  },
  {
   "cell_type": "code",
   "execution_count": 5,
   "metadata": {},
   "outputs": [
    {
     "data": {
      "image/png": "[encoded data removed]",
      "text/plain": [
       "<matplotlib.figure.Figure at 0x111fb57f0>"
      ]
     },
     "metadata": {},
     "output_type": "display_data"
    },
    {
     "name": "stdout",
     "output_type": "stream",
     "text": [
      "Index(['cid', 'Location', 'Current Job title', 'Degree', 'Experience', 'Skill',\n",
      "       'Salary', 'Preferred Job title'],\n",
      "      dtype='object')\n",
      "Index(['jid', 'Location', 'Job Title', 'Degree', 'Experience', 'Skill',\n",
      "       'Salary'],\n",
      "      dtype='object')\n"
     ]
    }
   ],
   "source": [
    "Count_vals= can.count()\n",
    "Count_vals = Count_vals.to_frame()\n",
    "Count_vals.plot.bar()\n",
    "plt.show()\n",
    "print(can.columns)\n",
    "print(cmp.columns)"
   ]
  },
  {
   "cell_type": "code",
   "execution_count": 6,
   "metadata": {},
   "outputs": [
    {
     "data": {
      "image/png": "[encoded data removed]",
      "text/plain": [
       "<matplotlib.figure.Figure at 0x111fb5080>"
      ]
     },
     "metadata": {},
     "output_type": "display_data"
    }
   ],
   "source": [
    "%matplotlib inline\n",
    "sns.distplot(can['Salary'])\n",
    "sns.distplot(can['Experience']);\n",
    "plt.show()"
   ]
  },
  {
   "cell_type": "code",
   "execution_count": 7,
   "metadata": {},
   "outputs": [
    {
     "data": {
      "text/html": [
       "<div>\n",
       "<style>\n",
       "    .dataframe thead tr:only-child th {\n",
       "        text-align: right;\n",
       "    }\n",
       "\n",
       "    .dataframe thead th {\n",
       "        text-align: left;\n",
       "    }\n",
       "\n",
       "    .dataframe tbody tr th {\n",
       "        vertical-align: top;\n",
       "    }\n",
       "</style>\n",
       "<table border=\"1\" class=\"dataframe\">\n",
       "  <thead>\n",
       "    <tr style=\"text-align: right;\">\n",
       "      <th></th>\n",
       "      <th>jid</th>\n",
       "      <th>Location</th>\n",
       "      <th>Job Title</th>\n",
       "      <th>Degree</th>\n",
       "      <th>Experience</th>\n",
       "      <th>Skill</th>\n",
       "      <th>Salary</th>\n",
       "    </tr>\n",
       "  </thead>\n",
       "  <tbody>\n",
       "    <tr>\n",
       "      <th>0</th>\n",
       "      <td>1</td>\n",
       "      <td>TX</td>\n",
       "      <td>Software Development Engineer</td>\n",
       "      <td>PhD</td>\n",
       "      <td>2</td>\n",
       "      <td>C</td>\n",
       "      <td>270000</td>\n",
       "    </tr>\n",
       "    <tr>\n",
       "      <th>1</th>\n",
       "      <td>2</td>\n",
       "      <td>CA</td>\n",
       "      <td>Software Engineer</td>\n",
       "      <td>Bachelors</td>\n",
       "      <td>3</td>\n",
       "      <td>Java,C</td>\n",
       "      <td>130000</td>\n",
       "    </tr>\n",
       "    <tr>\n",
       "      <th>2</th>\n",
       "      <td>3</td>\n",
       "      <td>TX</td>\n",
       "      <td>Front End Engineer</td>\n",
       "      <td>Masters</td>\n",
       "      <td>4</td>\n",
       "      <td>C++</td>\n",
       "      <td>120000</td>\n",
       "    </tr>\n",
       "    <tr>\n",
       "      <th>3</th>\n",
       "      <td>4</td>\n",
       "      <td>CA</td>\n",
       "      <td>Back End Enginner</td>\n",
       "      <td>Masters</td>\n",
       "      <td>6</td>\n",
       "      <td>Java</td>\n",
       "      <td>180000</td>\n",
       "    </tr>\n",
       "    <tr>\n",
       "      <th>4</th>\n",
       "      <td>5</td>\n",
       "      <td>CA</td>\n",
       "      <td>Data Scientist</td>\n",
       "      <td>PhD</td>\n",
       "      <td>2</td>\n",
       "      <td>Python,R,Data Analysis,SQL,MS Excel</td>\n",
       "      <td>127000</td>\n",
       "    </tr>\n",
       "  </tbody>\n",
       "</table>\n",
       "</div>"
      ],
      "text/plain": [
       "   jid Location                      Job Title     Degree  Experience  \\\n",
       "0    1       TX  Software Development Engineer        PhD           2   \n",
       "1    2       CA              Software Engineer  Bachelors           3   \n",
       "2    3       TX             Front End Engineer    Masters           4   \n",
       "3    4       CA              Back End Enginner    Masters           6   \n",
       "4    5       CA                 Data Scientist        PhD           2   \n",
       "\n",
       "                                 Skill  Salary  \n",
       "0                                    C  270000  \n",
       "1                               Java,C  130000  \n",
       "2                                  C++  120000  \n",
       "3                                 Java  180000  \n",
       "4  Python,R,Data Analysis,SQL,MS Excel  127000  "
      ]
     },
     "execution_count": 7,
     "metadata": {},
     "output_type": "execute_result"
    }
   ],
   "source": [
    "cmp"
   ]
  },
  {
   "cell_type": "code",
   "execution_count": 8,
   "metadata": {},
   "outputs": [
    {
     "data": {
      "text/html": [
       "<div>\n",
       "<style>\n",
       "    .dataframe thead tr:only-child th {\n",
       "        text-align: right;\n",
       "    }\n",
       "\n",
       "    .dataframe thead th {\n",
       "        text-align: left;\n",
       "    }\n",
       "\n",
       "    .dataframe tbody tr th {\n",
       "        vertical-align: top;\n",
       "    }\n",
       "</style>\n",
       "<table border=\"1\" class=\"dataframe\">\n",
       "  <thead>\n",
       "    <tr style=\"text-align: right;\">\n",
       "      <th></th>\n",
       "      <th>cid</th>\n",
       "      <th>Location</th>\n",
       "      <th>Current Job title</th>\n",
       "      <th>Degree</th>\n",
       "      <th>Experience</th>\n",
       "      <th>Skill</th>\n",
       "      <th>Salary</th>\n",
       "      <th>Preferred Job title</th>\n",
       "    </tr>\n",
       "  </thead>\n",
       "  <tbody>\n",
       "    <tr>\n",
       "      <th>0</th>\n",
       "      <td>1</td>\n",
       "      <td>TX</td>\n",
       "      <td>Front End Engineer</td>\n",
       "      <td>Masters</td>\n",
       "      <td>6</td>\n",
       "      <td>C++</td>\n",
       "      <td>130000</td>\n",
       "      <td>Software Development Engineer</td>\n",
       "    </tr>\n",
       "    <tr>\n",
       "      <th>1</th>\n",
       "      <td>2</td>\n",
       "      <td>CA</td>\n",
       "      <td>Back End Enginner</td>\n",
       "      <td>Masters</td>\n",
       "      <td>4</td>\n",
       "      <td>C</td>\n",
       "      <td>110000</td>\n",
       "      <td>Software Engineer</td>\n",
       "    </tr>\n",
       "    <tr>\n",
       "      <th>2</th>\n",
       "      <td>3</td>\n",
       "      <td>CA</td>\n",
       "      <td>Database Analyst</td>\n",
       "      <td>Masters</td>\n",
       "      <td>1</td>\n",
       "      <td>C++</td>\n",
       "      <td>96000</td>\n",
       "      <td>Front End Engineer</td>\n",
       "    </tr>\n",
       "    <tr>\n",
       "      <th>3</th>\n",
       "      <td>4</td>\n",
       "      <td>NY</td>\n",
       "      <td>Software Project Manager</td>\n",
       "      <td>Masters</td>\n",
       "      <td>6</td>\n",
       "      <td>HTML/CSS/Javascript</td>\n",
       "      <td>200000</td>\n",
       "      <td>Back End Enginner</td>\n",
       "    </tr>\n",
       "    <tr>\n",
       "      <th>4</th>\n",
       "      <td>5</td>\n",
       "      <td>TX</td>\n",
       "      <td>Software Developer</td>\n",
       "      <td>Masters</td>\n",
       "      <td>6</td>\n",
       "      <td>C</td>\n",
       "      <td>190000</td>\n",
       "      <td>Database Analyst</td>\n",
       "    </tr>\n",
       "    <tr>\n",
       "      <th>5</th>\n",
       "      <td>6</td>\n",
       "      <td>UT</td>\n",
       "      <td>Software Engineer</td>\n",
       "      <td>Bachelors</td>\n",
       "      <td>2</td>\n",
       "      <td>HTML/CSS/Javascript</td>\n",
       "      <td>90000</td>\n",
       "      <td>Software Project Manager</td>\n",
       "    </tr>\n",
       "    <tr>\n",
       "      <th>6</th>\n",
       "      <td>7</td>\n",
       "      <td>CA</td>\n",
       "      <td>Software Development Engineer</td>\n",
       "      <td>Masters</td>\n",
       "      <td>2</td>\n",
       "      <td>HTML/CSS/Javascript</td>\n",
       "      <td>115000</td>\n",
       "      <td>Software Developer</td>\n",
       "    </tr>\n",
       "    <tr>\n",
       "      <th>7</th>\n",
       "      <td>8</td>\n",
       "      <td>KY</td>\n",
       "      <td>Software Engineer</td>\n",
       "      <td>PhD</td>\n",
       "      <td>3</td>\n",
       "      <td>Python</td>\n",
       "      <td>150000</td>\n",
       "      <td>Software Engineer</td>\n",
       "    </tr>\n",
       "    <tr>\n",
       "      <th>8</th>\n",
       "      <td>9</td>\n",
       "      <td>PDX</td>\n",
       "      <td>Data Scientist</td>\n",
       "      <td>PhD</td>\n",
       "      <td>3</td>\n",
       "      <td>Python,R,Data Analysis,SQL,MS Excel</td>\n",
       "      <td>125000</td>\n",
       "      <td>Data Scientist</td>\n",
       "    </tr>\n",
       "  </tbody>\n",
       "</table>\n",
       "</div>"
      ],
      "text/plain": [
       "   cid Location              Current Job title     Degree  Experience  \\\n",
       "0    1       TX             Front End Engineer    Masters           6   \n",
       "1    2       CA              Back End Enginner    Masters           4   \n",
       "2    3       CA               Database Analyst    Masters           1   \n",
       "3    4       NY       Software Project Manager    Masters           6   \n",
       "4    5       TX             Software Developer    Masters           6   \n",
       "5    6       UT              Software Engineer  Bachelors           2   \n",
       "6    7       CA  Software Development Engineer    Masters           2   \n",
       "7    8       KY              Software Engineer        PhD           3   \n",
       "8    9      PDX                 Data Scientist        PhD           3   \n",
       "\n",
       "                                 Skill  Salary            Preferred Job title  \n",
       "0                                  C++  130000  Software Development Engineer  \n",
       "1                                    C  110000              Software Engineer  \n",
       "2                                  C++   96000             Front End Engineer  \n",
       "3                  HTML/CSS/Javascript  200000              Back End Enginner  \n",
       "4                                    C  190000               Database Analyst  \n",
       "5                  HTML/CSS/Javascript   90000       Software Project Manager  \n",
       "6                  HTML/CSS/Javascript  115000             Software Developer  \n",
       "7                               Python  150000              Software Engineer  \n",
       "8  Python,R,Data Analysis,SQL,MS Excel  125000                 Data Scientist  "
      ]
     },
     "execution_count": 8,
     "metadata": {},
     "output_type": "execute_result"
    }
   ],
   "source": [
    "can"
   ]
  },
  {
   "cell_type": "code",
   "execution_count": 9,
   "metadata": {},
   "outputs": [
    {
     "name": "stderr",
     "output_type": "stream",
     "text": [
      "/Users/praveena/anaconda3/lib/python3.6/site-packages/numpy/core/_methods.py:135: RuntimeWarning: Degrees of freedom <= 0 for slice\n",
      "  keepdims=keepdims)\n",
      "/Users/praveena/anaconda3/lib/python3.6/site-packages/numpy/core/_methods.py:127: RuntimeWarning: invalid value encountered in double_scalars\n",
      "  ret = ret.dtype.type(ret / rcount)\n",
      "/Users/praveena/anaconda3/lib/python3.6/site-packages/statsmodels/nonparametric/bandwidths.py:22: RuntimeWarning: invalid value encountered in minimum\n",
      "  return np.minimum(np.std(X, axis=0, ddof=1), IQR)\n",
      "/Users/praveena/anaconda3/lib/python3.6/site-packages/statsmodels/nonparametric/kde.py:494: RuntimeWarning: invalid value encountered in true_divide\n",
      "  binned = fast_linbin(X,a,b,gridsize)/(delta*nobs)\n",
      "/Users/praveena/anaconda3/lib/python3.6/site-packages/statsmodels/nonparametric/kdetools.py:34: RuntimeWarning: invalid value encountered in double_scalars\n",
      "  FAC1 = 2*(np.pi*bw/RANGE)**2\n"
     ]
    },
    {
     "data": {
      "text/plain": [
       "<seaborn.axisgrid.PairGrid at 0x113dc6358>"
      ]
     },
     "execution_count": 9,
     "metadata": {},
     "output_type": "execute_result"
    },
    {
     "data": {
      "image/png": "[encoded data removed]",
      "text/plain": [
       "<matplotlib.figure.Figure at 0x113dc6128>"
      ]
     },
     "metadata": {},
     "output_type": "display_data"
    }
   ],
   "source": [
    "sns.pairplot(can.drop(\"cid\", axis=1), hue=\"Degree\", size=3, diag_kind=\"kde\")\n"
   ]
  },
  {
   "cell_type": "code",
   "execution_count": 10,
   "metadata": {},
   "outputs": [
    {
     "data": {
      "image/png": "[encoded data removed]",
      "text/plain": [
       "<matplotlib.figure.Figure at 0x1a1b5103c8>"
      ]
     },
     "metadata": {},
     "output_type": "display_data"
    }
   ],
   "source": [
    "sns.kdeplot(can['Experience'],shade=True)\n",
    "plt.show()"
   ]
  },
  {
   "cell_type": "code",
   "execution_count": 11,
   "metadata": {
    "collapsed": true
   },
   "outputs": [],
   "source": [
    "score_val=[]\n",
    "row_vals=[]\n",
    "col_vals=[]\n",
    "exp=[]\n",
    "deg=[]\n",
    "skill=[]\n",
    "loc=[]\n",
    "salary=[]"
   ]
  },
  {
   "cell_type": "code",
   "execution_count": 12,
   "metadata": {
    "collapsed": true
   },
   "outputs": [],
   "source": [
    "import re, math\n",
    "from collections import Counter\n",
    "\n",
    "WORD = re.compile(r'\\w+')\n",
    "\n",
    "\n",
    "def get_cosine(vec1, vec2):\n",
    "     intersection = set(vec1.keys()) & set(vec2.keys())\n",
    "     numerator = sum([vec1[x] * vec2[x] for x in intersection])\n",
    "\n",
    "     sum1 = sum([vec1[x]**2 for x in vec1.keys()])\n",
    "     sum2 = sum([vec2[x]**2 for x in vec2.keys()])\n",
    "     denominator = math.sqrt(sum1) * math.sqrt(sum2)\n",
    "\n",
    "     if not denominator:\n",
    "        return 0.0\n",
    "     else:\n",
    "        return float(numerator) / denominator\n",
    "\n",
    "def text_to_vector(text):\n",
    "     words = WORD.findall(text)\n",
    "     return Counter(words)\n",
    "\n",
    "def title_check(user1,job1):\n",
    "    for row in range(len(can)):\n",
    "        for col in range(len(cmp)):\n",
    "            candidate_current_title=can['Current Job title'].values[row]\n",
    "            job_title=cmp['Job Title'].values[col]\n",
    "            candidate_preferred_title=can['Preferred Job title'].values[row]\n",
    "            vector1 = text_to_vector(candidate_current_title)\n",
    "            vector2 = text_to_vector(job_title)\n",
    "            vector3 = text_to_vector(candidate_preferred_title)\n",
    "            cosine1_current_with_jobtitle = get_cosine(vector1, vector2)\n",
    "            cosine2_preferred_with_jobtitle = get_cosine(vector2, vector3)\n",
    "    \n",
    "   \n",
    "            if(cosine1_current_with_jobtitle>0.60 or cosine2_preferred_with_jobtitle>0.60):\n",
    "                                            score=max(cosine1_current_with_jobtitle,cosine2_preferred_with_jobtitle)\n",
    "                                            #print(can['cid'].values[row],cmp['jid'].values[col],score)\n",
    "                                            row_vals.append(can['cid'].values[row])\n",
    "                                            col_vals.append(cmp['jid'].values[col])\n",
    "                                            score_val.append(score)\n",
    "                                            exp_check(row,col)\n",
    "                                            #print(can['cid'].values[row],cmp['jid'].values[col])\n",
    "                                        \n",
    "                        \n",
    "                        \n",
    "                                            \n",
    "            else:\n",
    "                pass\n",
    "\n",
    "        \n",
    "\n",
    "\n",
    "        \n",
    "#            print(can['Location'].values[row],cmp['Location'].values[col],\"no\",sim)\n",
    "#            sim=sim+0\n",
    "    "
   ]
  },
  {
   "cell_type": "code",
   "execution_count": 13,
   "metadata": {
    "collapsed": true
   },
   "outputs": [],
   "source": [
    "can['Degree'].replace('PhD',3, inplace=True)\n",
    "can['Degree'].replace('Masters',2, inplace=True)\n",
    "can['Degree'].replace('Bachelors',1, inplace=True)\n",
    "cmp['Degree'].replace('PhD',3, inplace=True)\n",
    "cmp['Degree'].replace('Masters',2, inplace=True)\n",
    "cmp['Degree'].replace('Bachelors',1, inplace=True)"
   ]
  },
  {
   "cell_type": "code",
   "execution_count": 14,
   "metadata": {},
   "outputs": [
    {
     "data": {
      "image/png": "[encoded data removed]",
      "text/plain": [
       "<matplotlib.figure.Figure at 0x1a1b7468d0>"
      ]
     },
     "metadata": {},
     "output_type": "display_data"
    }
   ],
   "source": [
    "%matplotlib inline\n",
    "sns.distplot(cmp['Degree']);\n",
    "plt.show()"
   ]
  },
  {
   "cell_type": "code",
   "execution_count": 15,
   "metadata": {},
   "outputs": [
    {
     "data": {
      "image/png": "[encoded data removed]",
      "text/plain": [
       "<matplotlib.figure.Figure at 0x1a1b787be0>"
      ]
     },
     "metadata": {},
     "output_type": "display_data"
    }
   ],
   "source": [
    "%matplotlib inline\n",
    "sns.distplot(can['Degree']);\n",
    "plt.show()"
   ]
  },
  {
   "cell_type": "code",
   "execution_count": 16,
   "metadata": {},
   "outputs": [
    {
     "data": {
      "image/png": "[encoded data removed]",
      "text/plain": [
       "<matplotlib.figure.Figure at 0x1a1b78e978>"
      ]
     },
     "metadata": {},
     "output_type": "display_data"
    }
   ],
   "source": [
    "%matplotlib inline\n",
    "sns.distplot(cmp['Degree']);\n",
    "plt.show()"
   ]
  },
  {
   "cell_type": "code",
   "execution_count": 17,
   "metadata": {},
   "outputs": [
    {
     "data": {
      "text/html": [
       "<div>\n",
       "<style>\n",
       "    .dataframe thead tr:only-child th {\n",
       "        text-align: right;\n",
       "    }\n",
       "\n",
       "    .dataframe thead th {\n",
       "        text-align: left;\n",
       "    }\n",
       "\n",
       "    .dataframe tbody tr th {\n",
       "        vertical-align: top;\n",
       "    }\n",
       "</style>\n",
       "<table border=\"1\" class=\"dataframe\">\n",
       "  <thead>\n",
       "    <tr style=\"text-align: right;\">\n",
       "      <th></th>\n",
       "      <th>cid</th>\n",
       "      <th>Location</th>\n",
       "      <th>Current Job title</th>\n",
       "      <th>Degree</th>\n",
       "      <th>Experience</th>\n",
       "      <th>Skill</th>\n",
       "      <th>Salary</th>\n",
       "      <th>Preferred Job title</th>\n",
       "    </tr>\n",
       "  </thead>\n",
       "  <tbody>\n",
       "    <tr>\n",
       "      <th>0</th>\n",
       "      <td>1</td>\n",
       "      <td>TX</td>\n",
       "      <td>Front End Engineer</td>\n",
       "      <td>2</td>\n",
       "      <td>6</td>\n",
       "      <td>C++</td>\n",
       "      <td>130000</td>\n",
       "      <td>Software Development Engineer</td>\n",
       "    </tr>\n",
       "    <tr>\n",
       "      <th>1</th>\n",
       "      <td>2</td>\n",
       "      <td>CA</td>\n",
       "      <td>Back End Enginner</td>\n",
       "      <td>2</td>\n",
       "      <td>4</td>\n",
       "      <td>C</td>\n",
       "      <td>110000</td>\n",
       "      <td>Software Engineer</td>\n",
       "    </tr>\n",
       "    <tr>\n",
       "      <th>2</th>\n",
       "      <td>3</td>\n",
       "      <td>CA</td>\n",
       "      <td>Database Analyst</td>\n",
       "      <td>2</td>\n",
       "      <td>1</td>\n",
       "      <td>C++</td>\n",
       "      <td>96000</td>\n",
       "      <td>Front End Engineer</td>\n",
       "    </tr>\n",
       "    <tr>\n",
       "      <th>3</th>\n",
       "      <td>4</td>\n",
       "      <td>NY</td>\n",
       "      <td>Software Project Manager</td>\n",
       "      <td>2</td>\n",
       "      <td>6</td>\n",
       "      <td>HTML/CSS/Javascript</td>\n",
       "      <td>200000</td>\n",
       "      <td>Back End Enginner</td>\n",
       "    </tr>\n",
       "    <tr>\n",
       "      <th>4</th>\n",
       "      <td>5</td>\n",
       "      <td>TX</td>\n",
       "      <td>Software Developer</td>\n",
       "      <td>2</td>\n",
       "      <td>6</td>\n",
       "      <td>C</td>\n",
       "      <td>190000</td>\n",
       "      <td>Database Analyst</td>\n",
       "    </tr>\n",
       "  </tbody>\n",
       "</table>\n",
       "</div>"
      ],
      "text/plain": [
       "   cid Location         Current Job title  Degree  Experience  \\\n",
       "0    1       TX        Front End Engineer       2           6   \n",
       "1    2       CA         Back End Enginner       2           4   \n",
       "2    3       CA          Database Analyst       2           1   \n",
       "3    4       NY  Software Project Manager       2           6   \n",
       "4    5       TX        Software Developer       2           6   \n",
       "\n",
       "                 Skill  Salary            Preferred Job title  \n",
       "0                  C++  130000  Software Development Engineer  \n",
       "1                    C  110000              Software Engineer  \n",
       "2                  C++   96000             Front End Engineer  \n",
       "3  HTML/CSS/Javascript  200000              Back End Enginner  \n",
       "4                    C  190000               Database Analyst  "
      ]
     },
     "execution_count": 17,
     "metadata": {},
     "output_type": "execute_result"
    }
   ],
   "source": [
    "can.head()"
   ]
  },
  {
   "cell_type": "code",
   "execution_count": 18,
   "metadata": {},
   "outputs": [
    {
     "data": {
      "text/html": [
       "<div>\n",
       "<style>\n",
       "    .dataframe thead tr:only-child th {\n",
       "        text-align: right;\n",
       "    }\n",
       "\n",
       "    .dataframe thead th {\n",
       "        text-align: left;\n",
       "    }\n",
       "\n",
       "    .dataframe tbody tr th {\n",
       "        vertical-align: top;\n",
       "    }\n",
       "</style>\n",
       "<table border=\"1\" class=\"dataframe\">\n",
       "  <thead>\n",
       "    <tr style=\"text-align: right;\">\n",
       "      <th></th>\n",
       "      <th>jid</th>\n",
       "      <th>Location</th>\n",
       "      <th>Job Title</th>\n",
       "      <th>Degree</th>\n",
       "      <th>Experience</th>\n",
       "      <th>Skill</th>\n",
       "      <th>Salary</th>\n",
       "    </tr>\n",
       "  </thead>\n",
       "  <tbody>\n",
       "    <tr>\n",
       "      <th>0</th>\n",
       "      <td>1</td>\n",
       "      <td>TX</td>\n",
       "      <td>Software Development Engineer</td>\n",
       "      <td>3</td>\n",
       "      <td>2</td>\n",
       "      <td>C</td>\n",
       "      <td>270000</td>\n",
       "    </tr>\n",
       "    <tr>\n",
       "      <th>1</th>\n",
       "      <td>2</td>\n",
       "      <td>CA</td>\n",
       "      <td>Software Engineer</td>\n",
       "      <td>1</td>\n",
       "      <td>3</td>\n",
       "      <td>Java,C</td>\n",
       "      <td>130000</td>\n",
       "    </tr>\n",
       "    <tr>\n",
       "      <th>2</th>\n",
       "      <td>3</td>\n",
       "      <td>TX</td>\n",
       "      <td>Front End Engineer</td>\n",
       "      <td>2</td>\n",
       "      <td>4</td>\n",
       "      <td>C++</td>\n",
       "      <td>120000</td>\n",
       "    </tr>\n",
       "    <tr>\n",
       "      <th>3</th>\n",
       "      <td>4</td>\n",
       "      <td>CA</td>\n",
       "      <td>Back End Enginner</td>\n",
       "      <td>2</td>\n",
       "      <td>6</td>\n",
       "      <td>Java</td>\n",
       "      <td>180000</td>\n",
       "    </tr>\n",
       "    <tr>\n",
       "      <th>4</th>\n",
       "      <td>5</td>\n",
       "      <td>CA</td>\n",
       "      <td>Data Scientist</td>\n",
       "      <td>3</td>\n",
       "      <td>2</td>\n",
       "      <td>Python,R,Data Analysis,SQL,MS Excel</td>\n",
       "      <td>127000</td>\n",
       "    </tr>\n",
       "  </tbody>\n",
       "</table>\n",
       "</div>"
      ],
      "text/plain": [
       "   jid Location                      Job Title  Degree  Experience  \\\n",
       "0    1       TX  Software Development Engineer       3           2   \n",
       "1    2       CA              Software Engineer       1           3   \n",
       "2    3       TX             Front End Engineer       2           4   \n",
       "3    4       CA              Back End Enginner       2           6   \n",
       "4    5       CA                 Data Scientist       3           2   \n",
       "\n",
       "                                 Skill  Salary  \n",
       "0                                    C  270000  \n",
       "1                               Java,C  130000  \n",
       "2                                  C++  120000  \n",
       "3                                 Java  180000  \n",
       "4  Python,R,Data Analysis,SQL,MS Excel  127000  "
      ]
     },
     "execution_count": 18,
     "metadata": {},
     "output_type": "execute_result"
    }
   ],
   "source": [
    "cmp.head()"
   ]
  },
  {
   "cell_type": "code",
   "execution_count": 19,
   "metadata": {
    "collapsed": true
   },
   "outputs": [],
   "source": [
    "def exp_check(row,col):\n",
    "    ex=(can['Experience'].values[row]-cmp['Experience'].values[col])/10\n",
    "    exp.append(ex)\n",
    "    degree_check(row,col)\n",
    "    \n",
    "#higher experience score is better,+ve    "
   ]
  },
  {
   "cell_type": "code",
   "execution_count": 20,
   "metadata": {
    "collapsed": true
   },
   "outputs": [],
   "source": [
    "def degree_check(row,col):\n",
    "    deg_val=cmp['Degree'].values[col]-can['Degree'].values[row]\n",
    "    deg.append(deg_val)\n",
    "    salary_check(row,col)\n",
    "    \n",
    "# lower Score_degree is better,-ve"
   ]
  },
  {
   "cell_type": "code",
   "execution_count": 21,
   "metadata": {
    "collapsed": true
   },
   "outputs": [],
   "source": [
    "def salary_check(row,col):\n",
    "    sal=(cmp['Salary'].values[col]-can['Salary'].values[row])/500000\n",
    "    salary.append(sal)\n",
    "    print(cmp['Salary'].values[col],can['Salary'].values[row],can['cid'].values[row],cmp['jid'].values[col],sal)\n",
    "    skill_check(row,col)\n",
    "    \n",
    " \n",
    "#higher Score is better,+ve\n",
    "    "
   ]
  },
  {
   "cell_type": "code",
   "execution_count": 22,
   "metadata": {},
   "outputs": [
    {
     "data": {
      "text/plain": [
       "0"
      ]
     },
     "execution_count": 22,
     "metadata": {},
     "output_type": "execute_result"
    }
   ],
   "source": [
    "len(salary)"
   ]
  },
  {
   "cell_type": "code",
   "execution_count": 23,
   "metadata": {
    "collapsed": true
   },
   "outputs": [],
   "source": [
    "def skill_check(row,col):\n",
    "    can_skill=can['Skill'].values[row]\n",
    "    cmp_skill=cmp['Skill'].values[col]\n",
    "    v1 = text_to_vector(can_skill)\n",
    "    v2 = text_to_vector(cmp_skill)\n",
    "    cosine_canskill_with_cmpskill = get_cosine(v1, v2)\n",
    "    score_skill=cosine_canskill_with_cmpskill\n",
    "    skill.append(score_skill)\n",
    "    location_check(row,col)\n",
    "\n",
    "# +ve"
   ]
  },
  {
   "cell_type": "code",
   "execution_count": 24,
   "metadata": {
    "collapsed": true
   },
   "outputs": [],
   "source": [
    "def location_check(row,col):\n",
    "    candidate_current_loc=can['Location'].values[row]\n",
    "    cmp_loc=cmp['Location'].values[col]\n",
    "    vec1 = text_to_vector(candidate_current_loc)\n",
    "    vec2 = text_to_vector(cmp_loc)\n",
    "    cosine_canloc_with_cmploc = get_cosine(vec1, vec2)\n",
    "    score_loc=cosine_canloc_with_cmploc\n",
    "    loc.append(score_loc)\n",
    "    \n",
    "# +ve"
   ]
  },
  {
   "cell_type": "code",
   "execution_count": 25,
   "metadata": {},
   "outputs": [
    {
     "name": "stdout",
     "output_type": "stream",
     "text": [
      "270000 130000 1 1 0.28\n",
      "130000 130000 1 2 0.0\n",
      "120000 130000 1 3 -0.02\n",
      "270000 110000 2 1 0.32\n",
      "130000 110000 2 2 0.04\n",
      "180000 110000 2 4 0.14\n",
      "120000 96000 3 3 0.048\n",
      "180000 200000 4 4 -0.04\n",
      "270000 90000 6 1 0.36\n",
      "130000 90000 6 2 0.08\n",
      "270000 115000 7 1 0.31\n",
      "130000 115000 7 2 0.03\n",
      "270000 150000 8 1 0.24\n",
      "130000 150000 8 2 -0.04\n",
      "127000 125000 9 5 0.004\n"
     ]
    }
   ],
   "source": [
    "title_check(can,cmp)"
   ]
  },
  {
   "cell_type": "code",
   "execution_count": 26,
   "metadata": {},
   "outputs": [
    {
     "data": {
      "text/plain": [
       "[1, 1, 1, 2, 2, 2, 3, 4, 6, 6, 7, 7, 8, 8, 9]"
      ]
     },
     "execution_count": 26,
     "metadata": {},
     "output_type": "execute_result"
    }
   ],
   "source": [
    "row_vals"
   ]
  },
  {
   "cell_type": "code",
   "execution_count": 27,
   "metadata": {},
   "outputs": [
    {
     "data": {
      "text/plain": [
       "15"
      ]
     },
     "execution_count": 27,
     "metadata": {},
     "output_type": "execute_result"
    }
   ],
   "source": [
    "len(row_vals)"
   ]
  },
  {
   "cell_type": "code",
   "execution_count": 28,
   "metadata": {},
   "outputs": [
    {
     "data": {
      "text/plain": [
       "[1, 2, 3, 1, 2, 4, 3, 4, 1, 2, 1, 2, 1, 2, 5]"
      ]
     },
     "execution_count": 28,
     "metadata": {},
     "output_type": "execute_result"
    }
   ],
   "source": [
    "col_vals"
   ]
  },
  {
   "cell_type": "code",
   "execution_count": 29,
   "metadata": {},
   "outputs": [
    {
     "data": {
      "text/plain": [
       "15"
      ]
     },
     "execution_count": 29,
     "metadata": {},
     "output_type": "execute_result"
    }
   ],
   "source": [
    "len(col_vals)"
   ]
  },
  {
   "cell_type": "code",
   "execution_count": 30,
   "metadata": {},
   "outputs": [
    {
     "data": {
      "text/plain": [
       "[0.40000000000000002,\n",
       " 0.29999999999999999,\n",
       " 0.20000000000000001,\n",
       " 0.20000000000000001,\n",
       " 0.10000000000000001,\n",
       " -0.20000000000000001,\n",
       " -0.29999999999999999,\n",
       " 0.0,\n",
       " 0.0,\n",
       " -0.10000000000000001,\n",
       " 0.0,\n",
       " -0.10000000000000001,\n",
       " 0.10000000000000001,\n",
       " 0.0,\n",
       " 0.10000000000000001]"
      ]
     },
     "execution_count": 30,
     "metadata": {},
     "output_type": "execute_result"
    }
   ],
   "source": [
    "exp"
   ]
  },
  {
   "cell_type": "code",
   "execution_count": 31,
   "metadata": {},
   "outputs": [
    {
     "data": {
      "text/plain": [
       "15"
      ]
     },
     "execution_count": 31,
     "metadata": {},
     "output_type": "execute_result"
    }
   ],
   "source": [
    "len(exp)"
   ]
  },
  {
   "cell_type": "code",
   "execution_count": 32,
   "metadata": {},
   "outputs": [
    {
     "data": {
      "text/plain": [
       "[1.0000000000000002,\n",
       " 0.8164965809277259,\n",
       " 1.0000000000000002,\n",
       " 0.8164965809277259,\n",
       " 0.9999999999999998,\n",
       " 1.0000000000000002,\n",
       " 1.0000000000000002,\n",
       " 1.0000000000000002,\n",
       " 0.8164965809277259,\n",
       " 0.9999999999999998,\n",
       " 1.0000000000000002,\n",
       " 0.8164965809277259,\n",
       " 0.8164965809277259,\n",
       " 0.9999999999999998,\n",
       " 0.9999999999999998]"
      ]
     },
     "execution_count": 32,
     "metadata": {},
     "output_type": "execute_result"
    }
   ],
   "source": [
    "score_val"
   ]
  },
  {
   "cell_type": "code",
   "execution_count": 33,
   "metadata": {},
   "outputs": [
    {
     "data": {
      "text/plain": [
       "15"
      ]
     },
     "execution_count": 33,
     "metadata": {},
     "output_type": "execute_result"
    }
   ],
   "source": [
    "len(score_val)"
   ]
  },
  {
   "cell_type": "code",
   "execution_count": 34,
   "metadata": {},
   "outputs": [
    {
     "data": {
      "text/plain": [
       "[1.0,\n",
       " 0.7071067811865475,\n",
       " 1.0,\n",
       " 1.0,\n",
       " 0.7071067811865475,\n",
       " 0.0,\n",
       " 1.0,\n",
       " 0.0,\n",
       " 0.0,\n",
       " 0.0,\n",
       " 0.0,\n",
       " 0.0,\n",
       " 0.0,\n",
       " 0.0,\n",
       " 0.9999999999999999]"
      ]
     },
     "execution_count": 34,
     "metadata": {},
     "output_type": "execute_result"
    }
   ],
   "source": [
    "skill"
   ]
  },
  {
   "cell_type": "code",
   "execution_count": 35,
   "metadata": {},
   "outputs": [
    {
     "data": {
      "text/plain": [
       "15"
      ]
     },
     "execution_count": 35,
     "metadata": {},
     "output_type": "execute_result"
    }
   ],
   "source": [
    "len(skill)"
   ]
  },
  {
   "cell_type": "code",
   "execution_count": 36,
   "metadata": {},
   "outputs": [
    {
     "data": {
      "text/plain": [
       "[1.0, 0.0, 1.0, 0.0, 1.0, 1.0, 0.0, 0.0, 0.0, 0.0, 0.0, 1.0, 0.0, 0.0, 0.0]"
      ]
     },
     "execution_count": 36,
     "metadata": {},
     "output_type": "execute_result"
    }
   ],
   "source": [
    "loc"
   ]
  },
  {
   "cell_type": "code",
   "execution_count": 37,
   "metadata": {},
   "outputs": [
    {
     "data": {
      "text/plain": [
       "15"
      ]
     },
     "execution_count": 37,
     "metadata": {},
     "output_type": "execute_result"
    }
   ],
   "source": [
    "len(loc)"
   ]
  },
  {
   "cell_type": "code",
   "execution_count": 38,
   "metadata": {},
   "outputs": [
    {
     "data": {
      "text/plain": [
       "[0.28000000000000003,\n",
       " 0.0,\n",
       " -0.02,\n",
       " 0.32000000000000001,\n",
       " 0.040000000000000001,\n",
       " 0.14000000000000001,\n",
       " 0.048000000000000001,\n",
       " -0.040000000000000001,\n",
       " 0.35999999999999999,\n",
       " 0.080000000000000002,\n",
       " 0.31,\n",
       " 0.029999999999999999,\n",
       " 0.23999999999999999,\n",
       " -0.040000000000000001,\n",
       " 0.0040000000000000001]"
      ]
     },
     "execution_count": 38,
     "metadata": {},
     "output_type": "execute_result"
    }
   ],
   "source": [
    "salary"
   ]
  },
  {
   "cell_type": "code",
   "execution_count": 39,
   "metadata": {},
   "outputs": [
    {
     "data": {
      "text/plain": [
       "15"
      ]
     },
     "execution_count": 39,
     "metadata": {},
     "output_type": "execute_result"
    }
   ],
   "source": [
    "len(salary)"
   ]
  },
  {
   "cell_type": "code",
   "execution_count": 40,
   "metadata": {},
   "outputs": [
    {
     "data": {
      "text/plain": [
       "[1, -1, 0, 1, -1, 0, 0, 0, 2, 0, 1, -1, 0, -2, 0]"
      ]
     },
     "execution_count": 40,
     "metadata": {},
     "output_type": "execute_result"
    }
   ],
   "source": [
    "deg"
   ]
  },
  {
   "cell_type": "code",
   "execution_count": 41,
   "metadata": {},
   "outputs": [
    {
     "data": {
      "text/plain": [
       "15"
      ]
     },
     "execution_count": 41,
     "metadata": {},
     "output_type": "execute_result"
    }
   ],
   "source": [
    "len(deg)"
   ]
  },
  {
   "cell_type": "code",
   "execution_count": 42,
   "metadata": {
    "collapsed": true
   },
   "outputs": [],
   "source": [
    "data={'CandidateID':row_vals,'JobId':col_vals,'Score_title':score_val,'Score_experience':exp,'Score_degree':deg,'Score_skill':skill,\n",
    "'Score_location':loc,\n",
    "'Score_salary':salary}\n",
    "\n",
    "\n",
    "frame=pd.DataFrame(data)\n",
    "\n",
    "\n",
    "frame=frame.assign(Final_score = frame.Score_title+ 0.50*frame.Score_experience - frame.Score_degree + 1.50*frame.Score_skill + frame.Score_location\n",
    "             + frame.Score_salary )"
   ]
  },
  {
   "cell_type": "markdown",
   "metadata": {},
   "source": [
    "# Final Result"
   ]
  },
  {
   "cell_type": "code",
   "execution_count": 43,
   "metadata": {},
   "outputs": [
    {
     "data": {
      "text/html": [
       "<div>\n",
       "<style>\n",
       "    .dataframe thead tr:only-child th {\n",
       "        text-align: right;\n",
       "    }\n",
       "\n",
       "    .dataframe thead th {\n",
       "        text-align: left;\n",
       "    }\n",
       "\n",
       "    .dataframe tbody tr th {\n",
       "        vertical-align: top;\n",
       "    }\n",
       "</style>\n",
       "<table border=\"1\" class=\"dataframe\">\n",
       "  <thead>\n",
       "    <tr style=\"text-align: right;\">\n",
       "      <th></th>\n",
       "      <th>CandidateID</th>\n",
       "      <th>JobId</th>\n",
       "      <th>Score_degree</th>\n",
       "      <th>Score_experience</th>\n",
       "      <th>Score_location</th>\n",
       "      <th>Score_salary</th>\n",
       "      <th>Score_skill</th>\n",
       "      <th>Score_title</th>\n",
       "      <th>Final_score</th>\n",
       "    </tr>\n",
       "  </thead>\n",
       "  <tbody>\n",
       "    <tr>\n",
       "      <th>0</th>\n",
       "      <td>1</td>\n",
       "      <td>1</td>\n",
       "      <td>1</td>\n",
       "      <td>0.4</td>\n",
       "      <td>1.0</td>\n",
       "      <td>0.280</td>\n",
       "      <td>1.000000</td>\n",
       "      <td>1.000000</td>\n",
       "      <td>2.980000</td>\n",
       "    </tr>\n",
       "    <tr>\n",
       "      <th>1</th>\n",
       "      <td>1</td>\n",
       "      <td>2</td>\n",
       "      <td>-1</td>\n",
       "      <td>0.3</td>\n",
       "      <td>0.0</td>\n",
       "      <td>0.000</td>\n",
       "      <td>0.707107</td>\n",
       "      <td>0.816497</td>\n",
       "      <td>3.027157</td>\n",
       "    </tr>\n",
       "    <tr>\n",
       "      <th>2</th>\n",
       "      <td>1</td>\n",
       "      <td>3</td>\n",
       "      <td>0</td>\n",
       "      <td>0.2</td>\n",
       "      <td>1.0</td>\n",
       "      <td>-0.020</td>\n",
       "      <td>1.000000</td>\n",
       "      <td>1.000000</td>\n",
       "      <td>3.580000</td>\n",
       "    </tr>\n",
       "    <tr>\n",
       "      <th>3</th>\n",
       "      <td>2</td>\n",
       "      <td>1</td>\n",
       "      <td>1</td>\n",
       "      <td>0.2</td>\n",
       "      <td>0.0</td>\n",
       "      <td>0.320</td>\n",
       "      <td>1.000000</td>\n",
       "      <td>0.816497</td>\n",
       "      <td>1.736497</td>\n",
       "    </tr>\n",
       "    <tr>\n",
       "      <th>4</th>\n",
       "      <td>2</td>\n",
       "      <td>2</td>\n",
       "      <td>-1</td>\n",
       "      <td>0.1</td>\n",
       "      <td>1.0</td>\n",
       "      <td>0.040</td>\n",
       "      <td>0.707107</td>\n",
       "      <td>1.000000</td>\n",
       "      <td>4.150660</td>\n",
       "    </tr>\n",
       "    <tr>\n",
       "      <th>5</th>\n",
       "      <td>2</td>\n",
       "      <td>4</td>\n",
       "      <td>0</td>\n",
       "      <td>-0.2</td>\n",
       "      <td>1.0</td>\n",
       "      <td>0.140</td>\n",
       "      <td>0.000000</td>\n",
       "      <td>1.000000</td>\n",
       "      <td>2.040000</td>\n",
       "    </tr>\n",
       "    <tr>\n",
       "      <th>6</th>\n",
       "      <td>3</td>\n",
       "      <td>3</td>\n",
       "      <td>0</td>\n",
       "      <td>-0.3</td>\n",
       "      <td>0.0</td>\n",
       "      <td>0.048</td>\n",
       "      <td>1.000000</td>\n",
       "      <td>1.000000</td>\n",
       "      <td>2.398000</td>\n",
       "    </tr>\n",
       "    <tr>\n",
       "      <th>7</th>\n",
       "      <td>4</td>\n",
       "      <td>4</td>\n",
       "      <td>0</td>\n",
       "      <td>0.0</td>\n",
       "      <td>0.0</td>\n",
       "      <td>-0.040</td>\n",
       "      <td>0.000000</td>\n",
       "      <td>1.000000</td>\n",
       "      <td>0.960000</td>\n",
       "    </tr>\n",
       "    <tr>\n",
       "      <th>8</th>\n",
       "      <td>6</td>\n",
       "      <td>1</td>\n",
       "      <td>2</td>\n",
       "      <td>0.0</td>\n",
       "      <td>0.0</td>\n",
       "      <td>0.360</td>\n",
       "      <td>0.000000</td>\n",
       "      <td>0.816497</td>\n",
       "      <td>-0.823503</td>\n",
       "    </tr>\n",
       "    <tr>\n",
       "      <th>9</th>\n",
       "      <td>6</td>\n",
       "      <td>2</td>\n",
       "      <td>0</td>\n",
       "      <td>-0.1</td>\n",
       "      <td>0.0</td>\n",
       "      <td>0.080</td>\n",
       "      <td>0.000000</td>\n",
       "      <td>1.000000</td>\n",
       "      <td>1.030000</td>\n",
       "    </tr>\n",
       "    <tr>\n",
       "      <th>10</th>\n",
       "      <td>7</td>\n",
       "      <td>1</td>\n",
       "      <td>1</td>\n",
       "      <td>0.0</td>\n",
       "      <td>0.0</td>\n",
       "      <td>0.310</td>\n",
       "      <td>0.000000</td>\n",
       "      <td>1.000000</td>\n",
       "      <td>0.310000</td>\n",
       "    </tr>\n",
       "    <tr>\n",
       "      <th>11</th>\n",
       "      <td>7</td>\n",
       "      <td>2</td>\n",
       "      <td>-1</td>\n",
       "      <td>-0.1</td>\n",
       "      <td>1.0</td>\n",
       "      <td>0.030</td>\n",
       "      <td>0.000000</td>\n",
       "      <td>0.816497</td>\n",
       "      <td>2.796497</td>\n",
       "    </tr>\n",
       "    <tr>\n",
       "      <th>12</th>\n",
       "      <td>8</td>\n",
       "      <td>1</td>\n",
       "      <td>0</td>\n",
       "      <td>0.1</td>\n",
       "      <td>0.0</td>\n",
       "      <td>0.240</td>\n",
       "      <td>0.000000</td>\n",
       "      <td>0.816497</td>\n",
       "      <td>1.106497</td>\n",
       "    </tr>\n",
       "    <tr>\n",
       "      <th>13</th>\n",
       "      <td>8</td>\n",
       "      <td>2</td>\n",
       "      <td>-2</td>\n",
       "      <td>0.0</td>\n",
       "      <td>0.0</td>\n",
       "      <td>-0.040</td>\n",
       "      <td>0.000000</td>\n",
       "      <td>1.000000</td>\n",
       "      <td>2.960000</td>\n",
       "    </tr>\n",
       "    <tr>\n",
       "      <th>14</th>\n",
       "      <td>9</td>\n",
       "      <td>5</td>\n",
       "      <td>0</td>\n",
       "      <td>0.1</td>\n",
       "      <td>0.0</td>\n",
       "      <td>0.004</td>\n",
       "      <td>1.000000</td>\n",
       "      <td>1.000000</td>\n",
       "      <td>2.554000</td>\n",
       "    </tr>\n",
       "  </tbody>\n",
       "</table>\n",
       "</div>"
      ],
      "text/plain": [
       "    CandidateID  JobId  Score_degree  Score_experience  Score_location  \\\n",
       "0             1      1             1               0.4             1.0   \n",
       "1             1      2            -1               0.3             0.0   \n",
       "2             1      3             0               0.2             1.0   \n",
       "3             2      1             1               0.2             0.0   \n",
       "4             2      2            -1               0.1             1.0   \n",
       "5             2      4             0              -0.2             1.0   \n",
       "6             3      3             0              -0.3             0.0   \n",
       "7             4      4             0               0.0             0.0   \n",
       "8             6      1             2               0.0             0.0   \n",
       "9             6      2             0              -0.1             0.0   \n",
       "10            7      1             1               0.0             0.0   \n",
       "11            7      2            -1              -0.1             1.0   \n",
       "12            8      1             0               0.1             0.0   \n",
       "13            8      2            -2               0.0             0.0   \n",
       "14            9      5             0               0.1             0.0   \n",
       "\n",
       "    Score_salary  Score_skill  Score_title  Final_score  \n",
       "0          0.280     1.000000     1.000000     2.980000  \n",
       "1          0.000     0.707107     0.816497     3.027157  \n",
       "2         -0.020     1.000000     1.000000     3.580000  \n",
       "3          0.320     1.000000     0.816497     1.736497  \n",
       "4          0.040     0.707107     1.000000     4.150660  \n",
       "5          0.140     0.000000     1.000000     2.040000  \n",
       "6          0.048     1.000000     1.000000     2.398000  \n",
       "7         -0.040     0.000000     1.000000     0.960000  \n",
       "8          0.360     0.000000     0.816497    -0.823503  \n",
       "9          0.080     0.000000     1.000000     1.030000  \n",
       "10         0.310     0.000000     1.000000     0.310000  \n",
       "11         0.030     0.000000     0.816497     2.796497  \n",
       "12         0.240     0.000000     0.816497     1.106497  \n",
       "13        -0.040     0.000000     1.000000     2.960000  \n",
       "14         0.004     1.000000     1.000000     2.554000  "
      ]
     },
     "execution_count": 43,
     "metadata": {},
     "output_type": "execute_result"
    }
   ],
   "source": [
    "#candidates macthed with jobs\n",
    "frame"
   ]
  },
  {
   "cell_type": "code",
   "execution_count": 44,
   "metadata": {},
   "outputs": [
    {
     "data": {
      "text/html": [
       "<div>\n",
       "<style>\n",
       "    .dataframe thead tr:only-child th {\n",
       "        text-align: right;\n",
       "    }\n",
       "\n",
       "    .dataframe thead th {\n",
       "        text-align: left;\n",
       "    }\n",
       "\n",
       "    .dataframe tbody tr th {\n",
       "        vertical-align: top;\n",
       "    }\n",
       "</style>\n",
       "<table border=\"1\" class=\"dataframe\">\n",
       "  <thead>\n",
       "    <tr style=\"text-align: right;\">\n",
       "      <th></th>\n",
       "      <th>CandidateID</th>\n",
       "      <th>JobId</th>\n",
       "      <th>Score_degree</th>\n",
       "      <th>Score_experience</th>\n",
       "      <th>Score_location</th>\n",
       "      <th>Score_salary</th>\n",
       "      <th>Score_skill</th>\n",
       "      <th>Score_title</th>\n",
       "      <th>Final_score</th>\n",
       "    </tr>\n",
       "  </thead>\n",
       "  <tbody>\n",
       "    <tr>\n",
       "      <th>4</th>\n",
       "      <td>2</td>\n",
       "      <td>2</td>\n",
       "      <td>-1</td>\n",
       "      <td>0.1</td>\n",
       "      <td>1.0</td>\n",
       "      <td>0.040</td>\n",
       "      <td>0.707107</td>\n",
       "      <td>1.000000</td>\n",
       "      <td>4.150660</td>\n",
       "    </tr>\n",
       "    <tr>\n",
       "      <th>2</th>\n",
       "      <td>1</td>\n",
       "      <td>3</td>\n",
       "      <td>0</td>\n",
       "      <td>0.2</td>\n",
       "      <td>1.0</td>\n",
       "      <td>-0.020</td>\n",
       "      <td>1.000000</td>\n",
       "      <td>1.000000</td>\n",
       "      <td>3.580000</td>\n",
       "    </tr>\n",
       "    <tr>\n",
       "      <th>1</th>\n",
       "      <td>1</td>\n",
       "      <td>2</td>\n",
       "      <td>-1</td>\n",
       "      <td>0.3</td>\n",
       "      <td>0.0</td>\n",
       "      <td>0.000</td>\n",
       "      <td>0.707107</td>\n",
       "      <td>0.816497</td>\n",
       "      <td>3.027157</td>\n",
       "    </tr>\n",
       "    <tr>\n",
       "      <th>0</th>\n",
       "      <td>1</td>\n",
       "      <td>1</td>\n",
       "      <td>1</td>\n",
       "      <td>0.4</td>\n",
       "      <td>1.0</td>\n",
       "      <td>0.280</td>\n",
       "      <td>1.000000</td>\n",
       "      <td>1.000000</td>\n",
       "      <td>2.980000</td>\n",
       "    </tr>\n",
       "    <tr>\n",
       "      <th>13</th>\n",
       "      <td>8</td>\n",
       "      <td>2</td>\n",
       "      <td>-2</td>\n",
       "      <td>0.0</td>\n",
       "      <td>0.0</td>\n",
       "      <td>-0.040</td>\n",
       "      <td>0.000000</td>\n",
       "      <td>1.000000</td>\n",
       "      <td>2.960000</td>\n",
       "    </tr>\n",
       "    <tr>\n",
       "      <th>11</th>\n",
       "      <td>7</td>\n",
       "      <td>2</td>\n",
       "      <td>-1</td>\n",
       "      <td>-0.1</td>\n",
       "      <td>1.0</td>\n",
       "      <td>0.030</td>\n",
       "      <td>0.000000</td>\n",
       "      <td>0.816497</td>\n",
       "      <td>2.796497</td>\n",
       "    </tr>\n",
       "    <tr>\n",
       "      <th>14</th>\n",
       "      <td>9</td>\n",
       "      <td>5</td>\n",
       "      <td>0</td>\n",
       "      <td>0.1</td>\n",
       "      <td>0.0</td>\n",
       "      <td>0.004</td>\n",
       "      <td>1.000000</td>\n",
       "      <td>1.000000</td>\n",
       "      <td>2.554000</td>\n",
       "    </tr>\n",
       "    <tr>\n",
       "      <th>6</th>\n",
       "      <td>3</td>\n",
       "      <td>3</td>\n",
       "      <td>0</td>\n",
       "      <td>-0.3</td>\n",
       "      <td>0.0</td>\n",
       "      <td>0.048</td>\n",
       "      <td>1.000000</td>\n",
       "      <td>1.000000</td>\n",
       "      <td>2.398000</td>\n",
       "    </tr>\n",
       "    <tr>\n",
       "      <th>5</th>\n",
       "      <td>2</td>\n",
       "      <td>4</td>\n",
       "      <td>0</td>\n",
       "      <td>-0.2</td>\n",
       "      <td>1.0</td>\n",
       "      <td>0.140</td>\n",
       "      <td>0.000000</td>\n",
       "      <td>1.000000</td>\n",
       "      <td>2.040000</td>\n",
       "    </tr>\n",
       "    <tr>\n",
       "      <th>3</th>\n",
       "      <td>2</td>\n",
       "      <td>1</td>\n",
       "      <td>1</td>\n",
       "      <td>0.2</td>\n",
       "      <td>0.0</td>\n",
       "      <td>0.320</td>\n",
       "      <td>1.000000</td>\n",
       "      <td>0.816497</td>\n",
       "      <td>1.736497</td>\n",
       "    </tr>\n",
       "    <tr>\n",
       "      <th>12</th>\n",
       "      <td>8</td>\n",
       "      <td>1</td>\n",
       "      <td>0</td>\n",
       "      <td>0.1</td>\n",
       "      <td>0.0</td>\n",
       "      <td>0.240</td>\n",
       "      <td>0.000000</td>\n",
       "      <td>0.816497</td>\n",
       "      <td>1.106497</td>\n",
       "    </tr>\n",
       "    <tr>\n",
       "      <th>9</th>\n",
       "      <td>6</td>\n",
       "      <td>2</td>\n",
       "      <td>0</td>\n",
       "      <td>-0.1</td>\n",
       "      <td>0.0</td>\n",
       "      <td>0.080</td>\n",
       "      <td>0.000000</td>\n",
       "      <td>1.000000</td>\n",
       "      <td>1.030000</td>\n",
       "    </tr>\n",
       "    <tr>\n",
       "      <th>7</th>\n",
       "      <td>4</td>\n",
       "      <td>4</td>\n",
       "      <td>0</td>\n",
       "      <td>0.0</td>\n",
       "      <td>0.0</td>\n",
       "      <td>-0.040</td>\n",
       "      <td>0.000000</td>\n",
       "      <td>1.000000</td>\n",
       "      <td>0.960000</td>\n",
       "    </tr>\n",
       "    <tr>\n",
       "      <th>10</th>\n",
       "      <td>7</td>\n",
       "      <td>1</td>\n",
       "      <td>1</td>\n",
       "      <td>0.0</td>\n",
       "      <td>0.0</td>\n",
       "      <td>0.310</td>\n",
       "      <td>0.000000</td>\n",
       "      <td>1.000000</td>\n",
       "      <td>0.310000</td>\n",
       "    </tr>\n",
       "    <tr>\n",
       "      <th>8</th>\n",
       "      <td>6</td>\n",
       "      <td>1</td>\n",
       "      <td>2</td>\n",
       "      <td>0.0</td>\n",
       "      <td>0.0</td>\n",
       "      <td>0.360</td>\n",
       "      <td>0.000000</td>\n",
       "      <td>0.816497</td>\n",
       "      <td>-0.823503</td>\n",
       "    </tr>\n",
       "  </tbody>\n",
       "</table>\n",
       "</div>"
      ],
      "text/plain": [
       "    CandidateID  JobId  Score_degree  Score_experience  Score_location  \\\n",
       "4             2      2            -1               0.1             1.0   \n",
       "2             1      3             0               0.2             1.0   \n",
       "1             1      2            -1               0.3             0.0   \n",
       "0             1      1             1               0.4             1.0   \n",
       "13            8      2            -2               0.0             0.0   \n",
       "11            7      2            -1              -0.1             1.0   \n",
       "14            9      5             0               0.1             0.0   \n",
       "6             3      3             0              -0.3             0.0   \n",
       "5             2      4             0              -0.2             1.0   \n",
       "3             2      1             1               0.2             0.0   \n",
       "12            8      1             0               0.1             0.0   \n",
       "9             6      2             0              -0.1             0.0   \n",
       "7             4      4             0               0.0             0.0   \n",
       "10            7      1             1               0.0             0.0   \n",
       "8             6      1             2               0.0             0.0   \n",
       "\n",
       "    Score_salary  Score_skill  Score_title  Final_score  \n",
       "4          0.040     0.707107     1.000000     4.150660  \n",
       "2         -0.020     1.000000     1.000000     3.580000  \n",
       "1          0.000     0.707107     0.816497     3.027157  \n",
       "0          0.280     1.000000     1.000000     2.980000  \n",
       "13        -0.040     0.000000     1.000000     2.960000  \n",
       "11         0.030     0.000000     0.816497     2.796497  \n",
       "14         0.004     1.000000     1.000000     2.554000  \n",
       "6          0.048     1.000000     1.000000     2.398000  \n",
       "5          0.140     0.000000     1.000000     2.040000  \n",
       "3          0.320     1.000000     0.816497     1.736497  \n",
       "12         0.240     0.000000     0.816497     1.106497  \n",
       "9          0.080     0.000000     1.000000     1.030000  \n",
       "7         -0.040     0.000000     1.000000     0.960000  \n",
       "10         0.310     0.000000     1.000000     0.310000  \n",
       "8          0.360     0.000000     0.816497    -0.823503  "
      ]
     },
     "execution_count": 44,
     "metadata": {},
     "output_type": "execute_result"
    }
   ],
   "source": [
    "#Sorted Results based on the final score. \n",
    "#Higher the final score,greater the chances of employement of a candidate in a given job id.\n",
    "frame.sort_values(by=['Final_score'],ascending=False)"
   ]
  },
  {
   "cell_type": "code",
   "execution_count": 7,
   "metadata": {
    "collapsed": true
   },
   "outputs": [],
   "source": [
    "from bs4 import BeautifulSoup\n"
   ]
  },
  {
   "cell_type": "code",
   "execution_count": 8,
   "metadata": {},
   "outputs": [
    {
     "ename": "ModuleNotFoundError",
     "evalue": "No module named 'selenium'",
     "output_type": "error",
     "traceback": [
      "\u001b[0;31m---------------------------------------------------------------------------\u001b[0m",
      "\u001b[0;31mModuleNotFoundError\u001b[0m                       Traceback (most recent call last)",
      "\u001b[0;32m<ipython-input-8-e7d8c2850744>\u001b[0m in \u001b[0;36m<module>\u001b[0;34m()\u001b[0m\n\u001b[0;32m----> 1\u001b[0;31m \u001b[0;32mfrom\u001b[0m \u001b[0mselenium\u001b[0m \u001b[0;32mimport\u001b[0m \u001b[0mwebdriver\u001b[0m\u001b[0;34m\u001b[0m\u001b[0m\n\u001b[0m",
      "\u001b[0;31mModuleNotFoundError\u001b[0m: No module named 'selenium'"
     ]
    }
   ],
   "source": [
    "from selenium import webdriver"
   ]
  },
  {
   "cell_type": "code",
   "execution_count": null,
   "metadata": {},
   "outputs": [],
   "source": []
  },
  {
   "cell_type": "code",
   "execution_count": null,
   "metadata": {
    "collapsed": true
   },
   "outputs": [],
   "source": []
  },
  {
   "cell_type": "code",
   "execution_count": null,
   "metadata": {
    "collapsed": true
   },
   "outputs": [],
   "source": []
  }
 ],
 "metadata": {
  "kernelspec": {
   "display_name": "Python 3",
   "language": "python",
   "name": "python3"
  },
  "language_info": {
   "codemirror_mode": {
    "name": "ipython",
    "version": 3
   },
   "file_extension": ".py",
   "mimetype": "text/x-python",
   "name": "python",
   "nbconvert_exporter": "python",
   "pygments_lexer": "ipython3",
   "version": "3.6.3"
  }
 },
 "nbformat": 4,
 "nbformat_minor": 2
}
