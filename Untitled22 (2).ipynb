{
 "cells": [
  {
   "cell_type": "code",
   "execution_count": null,
   "metadata": {
    "collapsed": true
   },
   "outputs": [],
   "source": [
    "import pandas as pd\n",
    "import numpy as np\n",
    "import matplotlib.pyplot as plt"
   ]
  },
  {
   "cell_type": "code",
   "execution_count": null,
   "metadata": {
    "collapsed": true
   },
   "outputs": [],
   "source": [
    "train = pd.read_csv('/Users/praveena/Downloads/Anuran Calls (MFCCs)/Frogs_MFCCs.csv')"
   ]
  },
  {
   "cell_type": "code",
   "execution_count": null,
   "metadata": {
    "collapsed": true
   },
   "outputs": [],
   "source": [
    "columns = ['MFCCs_ 1', 'Family', 'Family' , 'Genus' , 'Species' , 'RecordID' ]\n",
    "train.drop(columns, inplace=True, axis=1)"
   ]
  },
  {
   "cell_type": "code",
   "execution_count": null,
   "metadata": {},
   "outputs": [],
   "source": [
    "count_row=train.shape[0] #gives number of row count\n",
    "count_row=count_row\n",
    "count_col=train.shape[1]\n",
    "print(count_row)\n",
    "print(count_col)"
   ]
  },
  {
   "cell_type": "code",
   "execution_count": null,
   "metadata": {},
   "outputs": [],
   "source": [
    "#total number of datapoints\n",
    "total=count_row*count_col\n",
    "print(total)"
   ]
  },
  {
   "cell_type": "code",
   "execution_count": null,
   "metadata": {},
   "outputs": [],
   "source": [
    "train.head()"
   ]
  },
  {
   "cell_type": "code",
   "execution_count": null,
   "metadata": {},
   "outputs": [],
   "source": [
    "#sum of all the values in the dataset\n",
    "sum_oftrain=train.sum().sum()\n",
    "print(sum_oftrain)"
   ]
  },
  {
   "cell_type": "code",
   "execution_count": null,
   "metadata": {},
   "outputs": [],
   "source": [
    "#mean \n",
    "mean=sum_oftrain/total\n",
    "print(mean)\n"
   ]
  },
  {
   "cell_type": "code",
   "execution_count": null,
   "metadata": {},
   "outputs": [],
   "source": [
    "print(train.sum())"
   ]
  },
  {
   "cell_type": "code",
   "execution_count": null,
   "metadata": {
    "collapsed": true
   },
   "outputs": [],
   "source": [
    "dfList0 = train['MFCCs_ 2'].tolist()\n",
    "dfList1 = train['MFCCs_ 3'].tolist()\n",
    "dfList2 = train['MFCCs_ 4'].tolist()\n",
    "dfList3 = train['MFCCs_ 5'].tolist()\n",
    "dfList4 = train['MFCCs_ 6'].tolist()\n",
    "dfList5 = train['MFCCs_ 7'].tolist()\n",
    "dfList6 = train['MFCCs_ 8'].tolist()\n",
    "dfList7 = train['MFCCs_ 9'].tolist()\n",
    "dfList8 = train['MFCCs_10'].tolist()\n",
    "dfList9 = train['MFCCs_11'].tolist()\n",
    "dfList10 = train['MFCCs_12'].tolist()\n",
    "dfList11 = train['MFCCs_13'].tolist()\n",
    "dfList12 = train['MFCCs_14'].tolist()\n",
    "dfList13 = train['MFCCs_15'].tolist()\n",
    "dfList14 = train['MFCCs_16'].tolist()\n",
    "dfList15 = train['MFCCs_17'].tolist()\n",
    "dfList16 = train['MFCCs_18'].tolist()\n",
    "dfList17 = train['MFCCs_19'].tolist()\n",
    "dfList18 = train['MFCCs_20'].tolist()\n",
    "dfList19 = train['MFCCs_21'].tolist()\n",
    "dfList20 = train['MFCCs_22'].tolist()\n"
   ]
  },
  {
   "cell_type": "code",
   "execution_count": null,
   "metadata": {
    "collapsed": true
   },
   "outputs": [],
   "source": [
    "def ssw(xs):\n",
    "    mean=sum(xs)/len(xs)\n",
    "    result = 0\n",
    "    for i in xs:\n",
    "        result += (i-mean)*(i-mean)\n",
    "    return result"
   ]
  },
  {
   "cell_type": "code",
   "execution_count": null,
   "metadata": {},
   "outputs": [],
   "source": [
    "ssw_A=ssw(dfList0)\n",
    "ssw_B=ssw(dfList1)\n",
    "ssw_C=ssw(dfList2)\n",
    "ssw_D=ssw(dfList3)\n",
    "ssw_E=ssw(dfList4)\n",
    "ssw_F=ssw(dfList5)\n",
    "ssw_G=ssw(dfList6)\n",
    "ssw_H=ssw(dfList7)\n",
    "ssw_I=ssw(dfList8)\n",
    "ssw_J=ssw(dfList9)\n",
    "ssw_K=ssw(dfList10)\n",
    "ssw_L=ssw(dfList11)\n",
    "ssw_M=ssw(dfList12)\n",
    "ssw_N=ssw(dfList13)\n",
    "ssw_O=ssw(dfList14)\n",
    "ssw_P=ssw(dfList15)\n",
    "ssw_Q=ssw(dfList16)\n",
    "ssw_R=ssw(dfList17)\n",
    "ssw_S=ssw(dfList18)\n",
    "ssw_T=ssw(dfList19)\n",
    "ssw_U=ssw(dfList20)\n",
    "\n",
    "\n",
    "\n",
    "ssw_final=ssw_A+ssw_B+ssw_C+ssw_D+ssw_E+ssw_F+ssw_G+ssw_H+ssw_I+ssw_J+ssw_K+ssw_L+ssw_M+ssw_N+ssw_O+ssw_P+ssw_Q+ssw_R+ssw_S+ssw_T+ssw_U\n",
    "print(ssw_final)"
   ]
  },
  {
   "cell_type": "code",
   "execution_count": null,
   "metadata": {},
   "outputs": [],
   "source": [
    "len(dfList0)"
   ]
  },
  {
   "cell_type": "code",
   "execution_count": null,
   "metadata": {},
   "outputs": [],
   "source": [
    "len(dfList0)"
   ]
  },
  {
   "cell_type": "code",
   "execution_count": null,
   "metadata": {
    "collapsed": true
   },
   "outputs": [],
   "source": [
    "\n",
    "dfList0.extend(dfList1) \n",
    "dfList0.extend(dfList2) \n",
    "dfList0.extend(dfList3) \n",
    "dfList0.extend(dfList4) \n",
    "dfList0.extend(dfList5) \n",
    "dfList0.extend(dfList6) \n",
    "dfList0.extend(dfList7) \n",
    "dfList0.extend(dfList8) \n",
    "dfList0.extend(dfList9) \n",
    "dfList0.extend(dfList10) \n",
    "dfList0.extend(dfList11) \n",
    "dfList0.extend(dfList12) \n",
    "dfList0.extend(dfList13) \n",
    "dfList0.extend(dfList14) \n",
    "dfList0.extend(dfList15) \n",
    "dfList0.extend(dfList16) \n",
    "dfList0.extend(dfList17) \n",
    "dfList0.extend(dfList18) \n",
    "dfList0.extend(dfList19) \n",
    "dfList0.extend(dfList20)\n",
    "\n"
   ]
  },
  {
   "cell_type": "code",
   "execution_count": null,
   "metadata": {},
   "outputs": [],
   "source": [
    "len(dfList0)"
   ]
  },
  {
   "cell_type": "code",
   "execution_count": null,
   "metadata": {
    "collapsed": true
   },
   "outputs": [],
   "source": [
    "def sum_of_squares(xs):\n",
    "    result = 0\n",
    "    for i in xs:\n",
    "        result += (i-0.0755599051710219)*(i-0.0755599051710219)\n",
    "\n",
    "    return result"
   ]
  },
  {
   "cell_type": "code",
   "execution_count": null,
   "metadata": {},
   "outputs": [],
   "source": [
    "sst=sum_of_squares(dfList0)\n",
    "print(sst)\n"
   ]
  },
  {
   "cell_type": "code",
   "execution_count": null,
   "metadata": {
    "collapsed": true
   },
   "outputs": [],
   "source": [
    "x = train.iloc[:, [1, 2, 3, 4, 5, 6, 7, 8, 9, 10, 11, 12, 13, 14, 15, 16, 17, 18, 19, 20]].values\n"
   ]
  },
  {
   "cell_type": "code",
   "execution_count": null,
   "metadata": {},
   "outputs": [],
   "source": [
    "from sklearn.cluster import KMeans\n",
    "wcss = []\n",
    "\n",
    "for i in range(1, 11):\n",
    "    kmeans = KMeans(n_clusters = i, init = 'k-means++', max_iter = 300, n_init = 10, random_state = 0)\n",
    "    kmeans.fit(x)\n",
    "    wcss.append(kmeans.inertia_)\n",
    "    \n",
    "#Plotting the results onto a line graph, allowing us to observe 'The elbow'\n",
    "plt.plot(range(1, 11), wcss)\n",
    "plt.title('The elbow method')\n",
    "plt.xlabel('Number of clusters')\n",
    "plt.ylabel('WCSS') #within cluster sum of squares\n",
    "plt.show()"
   ]
  },
  {
   "cell_type": "code",
   "execution_count": null,
   "metadata": {},
   "outputs": [],
   "source": [
    "print(wcss)"
   ]
  },
  {
   "cell_type": "code",
   "execution_count": null,
   "metadata": {},
   "outputs": [],
   "source": [
    "print(sum(wcss))"
   ]
  },
  {
   "cell_type": "code",
   "execution_count": null,
   "metadata": {},
   "outputs": [],
   "source": [
    "print(sum(wcss)/sst)"
   ]
  },
  {
   "cell_type": "code",
   "execution_count": null,
   "metadata": {
    "collapsed": true
   },
   "outputs": [],
   "source": [
    "kmeans = KMeans(n_clusters = 3, init = 'k-means++', max_iter = 300, n_init = 10, random_state = 0)\n",
    "y_kmeans = kmeans.fit_predict(x)"
   ]
  },
  {
   "cell_type": "code",
   "execution_count": null,
   "metadata": {
    "collapsed": true
   },
   "outputs": [],
   "source": []
  }
 ],
 "metadata": {
  "kernelspec": {
   "display_name": "Python 3",
   "language": "python",
   "name": "python3"
  },
  "language_info": {
   "codemirror_mode": {
    "name": "ipython",
    "version": 3
   },
   "file_extension": ".py",
   "mimetype": "text/x-python",
   "name": "python",
   "nbconvert_exporter": "python",
   "pygments_lexer": "ipython3",
   "version": "3.6.3"
  }
 },
 "nbformat": 4,
 "nbformat_minor": 2
}
