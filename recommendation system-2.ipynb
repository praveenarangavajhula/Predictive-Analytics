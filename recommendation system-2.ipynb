{
 "cells": [
  {
   "cell_type": "code",
   "execution_count": 1,
   "metadata": {},
   "outputs": [
    {
     "ename": "NameError",
     "evalue": "name 'cursor' is not defined",
     "output_type": "error",
     "traceback": [
      "\u001b[0;31m---------------------------------------------------------------------------\u001b[0m",
      "\u001b[0;31mNameError\u001b[0m                                 Traceback (most recent call last)",
      "\u001b[0;32m<ipython-input-1-fd4c96376501>\u001b[0m in \u001b[0;36m<module>\u001b[0;34m()\u001b[0m\n\u001b[1;32m      9\u001b[0m \u001b[0;34m\u001b[0m\u001b[0m\n\u001b[1;32m     10\u001b[0m \u001b[0msql\u001b[0m \u001b[0;34m=\u001b[0m \u001b[0;34m\"SELECT * FROM application\"\u001b[0m\u001b[0;34m\u001b[0m\u001b[0m\n\u001b[0;32m---> 11\u001b[0;31m \u001b[0mcursor\u001b[0m\u001b[0;34m.\u001b[0m\u001b[0mexecute\u001b[0m\u001b[0;34m(\u001b[0m\u001b[0msql\u001b[0m\u001b[0;34m)\u001b[0m\u001b[0;34m\u001b[0m\u001b[0m\n\u001b[0m\u001b[1;32m     12\u001b[0m \u001b[0mdb\u001b[0m\u001b[0;34m.\u001b[0m\u001b[0mcommit\u001b[0m\u001b[0;34m(\u001b[0m\u001b[0;34m)\u001b[0m\u001b[0;34m\u001b[0m\u001b[0m\n\u001b[1;32m     13\u001b[0m \u001b[0mresults\u001b[0m \u001b[0;34m=\u001b[0m \u001b[0mcursor\u001b[0m\u001b[0;34m.\u001b[0m\u001b[0mfetchall\u001b[0m\u001b[0;34m(\u001b[0m\u001b[0;34m)\u001b[0m\u001b[0;34m\u001b[0m\u001b[0m\n",
      "\u001b[0;31mNameError\u001b[0m: name 'cursor' is not defined"
     ]
    }
   ],
   "source": [
    "import MySQLdb\n",
    "\n",
    "# Connect\n",
    "db = MySQLdb.connect(host=\"gitty-rds.c96w2gvk26br.us-west-2.rds.amazonaws.com\",\n",
    "                     user=\"gittyadmin\",\n",
    "                     passwd=\"g177yd8@b&3\",\n",
    "                     db=\"gittydb\")\n",
    "\n",
    "\n",
    "sql = \"SELECT * FROM application\"\n",
    "cursor.execute(sql)\n",
    "db.commit()\n",
    "results = cursor.fetchall()\n",
    "\n",
    "widths = []\n",
    "columns = []\n",
    "tavnit = '|'\n",
    "separator = '+' \n",
    "\n",
    "for cd in cursor.description:\n",
    "    widths.append(max(cd[2], len(cd[0])))\n",
    "    columns.append(cd[0])\n",
    "\n",
    "for w in widths:\n",
    "    tavnit += \" %-\"+\"%ss |\" % (w,)\n",
    "    separator += '-'*w + '--'\n",
    "\n",
    "print(separator)\n",
    "print(tavnit % tuple(columns))\n",
    "print(separator)\n",
    "for row in results:\n",
    "    print(tavnit % row)\n",
    "print(separator)\n",
    "\n",
    "# Close the connection\n",
    "db.close()"
   ]
  },
  {
   "cell_type": "code",
   "execution_count": null,
   "metadata": {},
   "outputs": [],
   "source": []
  }
 ],
 "metadata": {
  "kernelspec": {
   "display_name": "Python 3",
   "language": "python",
   "name": "python3"
  },
  "language_info": {
   "codemirror_mode": {
    "name": "ipython",
    "version": 3
   },
   "file_extension": ".py",
   "mimetype": "text/x-python",
   "name": "python",
   "nbconvert_exporter": "python",
   "pygments_lexer": "ipython3",
   "version": "3.6.5"
  }
 },
 "nbformat": 4,
 "nbformat_minor": 2
}
